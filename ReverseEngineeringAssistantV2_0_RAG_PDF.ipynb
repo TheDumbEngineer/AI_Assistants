{
  "nbformat": 4,
  "nbformat_minor": 0,
  "metadata": {
    "colab": {
      "provenance": [],
      "machine_shape": "hm",
      "gpuType": "T4",
      "mount_file_id": "18qjhyE5yfnfGaSdYTUyIlu7GmHCtgiFH",
      "authorship_tag": "ABX9TyOW68vMr2lMEiFVrJ2JvtPi",
      "include_colab_link": true
    },
    "kernelspec": {
      "name": "python3",
      "display_name": "Python 3"
    },
    "language_info": {
      "name": "python"
    },
    "accelerator": "GPU"
  },
  "cells": [
    {
      "cell_type": "markdown",
      "metadata": {
        "id": "view-in-github",
        "colab_type": "text"
      },
      "source": [
        "<a href=\"https://colab.research.google.com/github/TheDumbEngineer/AI_Assistants/blob/main/ReverseEngineeringAssistantV2_0_RAG_PDF.ipynb\" target=\"_parent\"><img src=\"https://colab.research.google.com/assets/colab-badge.svg\" alt=\"Open In Colab\"/></a>"
      ]
    },
    {
      "cell_type": "markdown",
      "source": [
        "#Reverse Engineering Assistant V2.0\n"
      ],
      "metadata": {
        "id": "Yex6y249Blpa"
      }
    },
    {
      "cell_type": "code",
      "source": [
        "!pip install langchain langchain_community langchain_chroma langchain-openai langchainhub unstructured[pdf]"
      ],
      "metadata": {
        "id": "GyweSpVaBqVm",
        "colab": {
          "base_uri": "https://localhost:8080/"
        },
        "outputId": "405bc596-ffbf-4c89-d518-64019a688d8a"
      },
      "execution_count": 11,
      "outputs": [
        {
          "output_type": "stream",
          "name": "stdout",
          "text": [
            "Requirement already satisfied: langchain in /usr/local/lib/python3.10/dist-packages (0.2.6)\n",
            "Requirement already satisfied: langchain_community in /usr/local/lib/python3.10/dist-packages (0.2.6)\n",
            "Requirement already satisfied: langchain_chroma in /usr/local/lib/python3.10/dist-packages (0.1.2)\n",
            "Requirement already satisfied: langchain-openai in /usr/local/lib/python3.10/dist-packages (0.1.13)\n",
            "Requirement already satisfied: langchainhub in /usr/local/lib/python3.10/dist-packages (0.1.20)\n",
            "Requirement already satisfied: unstructured[pdf] in /usr/local/lib/python3.10/dist-packages (0.14.9)\n",
            "\u001b[31mERROR: Could not find a version that satisfies the requirement langchain.runnables (from versions: none)\u001b[0m\u001b[31m\n",
            "\u001b[0m\u001b[31mERROR: No matching distribution found for langchain.runnables\u001b[0m\u001b[31m\n",
            "\u001b[0m"
          ]
        }
      ]
    },
    {
      "cell_type": "code",
      "source": [
        "import getpass\n",
        "import os\n",
        "\n",
        "os.environ[\"OPENAI_API_KEY\"] = getpass.getpass()\n",
        "\n",
        "from langchain_openai import ChatOpenAI\n",
        "\n",
        "llm = ChatOpenAI(model=\"gpt-3.5-turbo-0125\")"
      ],
      "metadata": {
        "id": "KGf2-kvDFwlG",
        "colab": {
          "base_uri": "https://localhost:8080/"
        },
        "outputId": "b192e817-326d-4771-f5ab-ffb09e4756ba"
      },
      "execution_count": 1,
      "outputs": [
        {
          "name": "stdout",
          "output_type": "stream",
          "text": [
            "··········\n"
          ]
        }
      ]
    },
    {
      "cell_type": "code",
      "source": [
        "#Using the UnstructuredPDFLoader for loading the document\n",
        "from langchain_community.document_loaders import UnstructuredPDFLoader"
      ],
      "metadata": {
        "id": "bmkK9ip9HDgN"
      },
      "execution_count": 2,
      "outputs": []
    },
    {
      "cell_type": "code",
      "source": [
        "#Create the loader\n",
        "loader = UnstructuredPDFLoader(\"/content/drive/MyDrive/Book PDFs/PracticalBinary.pdf\")"
      ],
      "metadata": {
        "id": "IqQ9b0E5Ic-j"
      },
      "execution_count": 3,
      "outputs": []
    },
    {
      "cell_type": "markdown",
      "source": [],
      "metadata": {
        "id": "3H4ma6fxADRY"
      }
    },
    {
      "cell_type": "code",
      "source": [
        "#Get the loaded data\n",
        "data = loader.load()"
      ],
      "metadata": {
        "id": "syDSm0vnKyvl",
        "colab": {
          "base_uri": "https://localhost:8080/"
        },
        "outputId": "1c93e216-b1b9-44e8-ce78-f97c6a521d71"
      },
      "execution_count": 4,
      "outputs": [
        {
          "output_type": "stream",
          "name": "stderr",
          "text": [
            "[nltk_data] Downloading package punkt to /root/nltk_data...\n",
            "[nltk_data]   Unzipping tokenizers/punkt.zip.\n",
            "[nltk_data] Downloading package averaged_perceptron_tagger to\n",
            "[nltk_data]     /root/nltk_data...\n",
            "[nltk_data]   Unzipping taggers/averaged_perceptron_tagger.zip.\n"
          ]
        }
      ]
    },
    {
      "cell_type": "code",
      "source": [
        "#Importing the libraries\n",
        "from langchain_core.output_parsers import StrOutputParser\n",
        "from langchain_core.runnables import RunnablePassthrough\n",
        "from langchain_openai import OpenAIEmbeddings\n",
        "from langchain_text_splitters import RecursiveCharacterTextSplitter\n",
        "from langchain_chroma import Chroma\n",
        "from langchain import hub\n",
        "from langchain.chains import ConversationalRetrievalChain\n",
        "from langchain.memory import ConversationBufferMemory\n",
        "from langchain.chains import TransformChain\n",
        "from langchain.chat_models import ChatOpenAI\n",
        "import sys"
      ],
      "metadata": {
        "id": "tF-sfGpJN0KK",
        "colab": {
          "base_uri": "https://localhost:8080/",
          "height": 394
        },
        "outputId": "4f1d833d-e03f-413b-8081-c54031cb6291"
      },
      "execution_count": 9,
      "outputs": [
        {
          "output_type": "error",
          "ename": "ImportError",
          "evalue": "cannot import name 'RunnableMap' from 'langchain.runnables' (/usr/local/lib/python3.10/dist-packages/langchain/runnables/__init__.py)",
          "traceback": [
            "\u001b[0;31m---------------------------------------------------------------------------\u001b[0m",
            "\u001b[0;31mImportError\u001b[0m                               Traceback (most recent call last)",
            "\u001b[0;32m<ipython-input-9-5f065f916f6b>\u001b[0m in \u001b[0;36m<cell line: 11>\u001b[0;34m()\u001b[0m\n\u001b[1;32m      9\u001b[0m \u001b[0;32mfrom\u001b[0m \u001b[0mlangchain\u001b[0m\u001b[0;34m.\u001b[0m\u001b[0mmemory\u001b[0m \u001b[0;32mimport\u001b[0m \u001b[0mConversationBufferMemory\u001b[0m\u001b[0;34m\u001b[0m\u001b[0;34m\u001b[0m\u001b[0m\n\u001b[1;32m     10\u001b[0m \u001b[0;32mfrom\u001b[0m \u001b[0mlangchain\u001b[0m\u001b[0;34m.\u001b[0m\u001b[0mchains\u001b[0m \u001b[0;32mimport\u001b[0m \u001b[0mTransformChain\u001b[0m\u001b[0;34m\u001b[0m\u001b[0;34m\u001b[0m\u001b[0m\n\u001b[0;32m---> 11\u001b[0;31m \u001b[0;32mfrom\u001b[0m \u001b[0mlangchain\u001b[0m\u001b[0;34m.\u001b[0m\u001b[0mrunnables\u001b[0m \u001b[0;32mimport\u001b[0m \u001b[0mRunnableMap\u001b[0m\u001b[0;34m\u001b[0m\u001b[0;34m\u001b[0m\u001b[0m\n\u001b[0m\u001b[1;32m     12\u001b[0m \u001b[0;32mfrom\u001b[0m \u001b[0mlangchain\u001b[0m\u001b[0;34m.\u001b[0m\u001b[0mchat_models\u001b[0m \u001b[0;32mimport\u001b[0m \u001b[0mChatOpenAI\u001b[0m\u001b[0;34m\u001b[0m\u001b[0;34m\u001b[0m\u001b[0m\n\u001b[1;32m     13\u001b[0m \u001b[0;32mimport\u001b[0m \u001b[0msys\u001b[0m\u001b[0;34m\u001b[0m\u001b[0;34m\u001b[0m\u001b[0m\n",
            "\u001b[0;31mImportError\u001b[0m: cannot import name 'RunnableMap' from 'langchain.runnables' (/usr/local/lib/python3.10/dist-packages/langchain/runnables/__init__.py)",
            "",
            "\u001b[0;31m---------------------------------------------------------------------------\u001b[0;32m\nNOTE: If your import is failing due to a missing package, you can\nmanually install dependencies using either !pip or !apt.\n\nTo view examples of installing some common dependencies, click the\n\"Open Examples\" button below.\n\u001b[0;31m---------------------------------------------------------------------------\u001b[0m\n"
          ],
          "errorDetails": {
            "actions": [
              {
                "action": "open_url",
                "actionText": "Open Examples",
                "url": "/notebooks/snippets/importing_libraries.ipynb"
              }
            ]
          }
        }
      ]
    },
    {
      "cell_type": "code",
      "source": [
        "#Splitting the data and creating a vectorestore\n",
        "text_splitter = RecursiveCharacterTextSplitter(chunk_size=1000, chunk_overlap=200)\n",
        "splits = text_splitter.split_documents(data)\n",
        "vectorstore = Chroma.from_documents(documents=splits, embedding=OpenAIEmbeddings())"
      ],
      "metadata": {
        "id": "YE_Eq89dOz0D"
      },
      "execution_count": 6,
      "outputs": []
    },
    {
      "cell_type": "code",
      "source": [
        "#Retrieving and generating using the relevant data from the pdf.\n",
        "retriever = vectorstore.as_retriever()\n",
        "prompt = hub.pull(\"byteberzerker/reverse_helper\")\n",
        "\n",
        "def format_docs(docs):\n",
        "    return \"\\n\\n\".join(doc.page_content for doc in docs)\n",
        "\n",
        "\n",
        "rag_chain = (\n",
        "    {\"context\": retriever | format_docs, \"question\": RunnablePassthrough()}\n",
        "    | prompt\n",
        "    | llm\n",
        "    | StrOutputParser()\n",
        ")\n",
        "\n",
        "rag_chain.invoke(\"Give me a step by step guide on binary analysis, complete with the tools used and how to use them\")\n",
        "\n",
        "\n",
        "\n"
      ],
      "metadata": {
        "colab": {
          "base_uri": "https://localhost:8080/"
        },
        "id": "OPHzXOsvPtjQ",
        "outputId": "b9c1232a-39ea-438e-f9f4-698c7010a7f8"
      },
      "execution_count": 44,
      "outputs": [
        {
          "output_type": "stream",
          "name": "stdout",
          "text": [
            "{'question': 'Hello', 'chat_history': [HumanMessage(content='Hello'), AIMessage(content='Hello! It seems like the context provided is incomplete and does not directly relate to the question asked. If you could provide more information or clarify your question, I would be happy to assist you further.')], 'answer': 'Hello! It seems like the context provided is incomplete and does not directly relate to the question asked. If you could provide more information or clarify your question, I would be happy to assist you further.'}\n"
          ]
        }
      ]
    },
    {
      "cell_type": "markdown",
      "source": [
        "#With Nice Formatting, No Memory"
      ],
      "metadata": {
        "id": "3K-yihg7pb7H"
      }
    },
    {
      "cell_type": "markdown",
      "source": [],
      "metadata": {
        "id": "GTLdKbrUpNms"
      }
    },
    {
      "cell_type": "code",
      "source": [
        "retriever = vectorstore.as_retriever()\n",
        "prompt = hub.pull(\"byteberzerker/reverse_helper\")\n",
        "\n",
        "def format_docs(docs):\n",
        "    return \"\\n\\n\".join(doc.page_content for doc in docs)\n",
        "\n",
        "\n",
        "rag_chain = (\n",
        "    {\"context\": retriever | format_docs, \"question\": RunnablePassthrough()}\n",
        "    | prompt\n",
        "    | llm\n",
        "    | StrOutputParser()\n",
        ")\n",
        "\n",
        "result = rag_chain.invoke(\"Give me some SQL examples used in fuzzing APIs.\")\n",
        "\n",
        "\n",
        "# Function to print the result nicely\n",
        "def print_nice_result(result):\n",
        "    print(\"\\n=== RAG Chain Result ===\\n\")\n",
        "    sections = result.split(\"\\n\\n\")\n",
        "    for idx, section in enumerate(sections, start=1):\n",
        "        print(f\"Section {idx}:\\n{section.strip()}\\n\")\n",
        "        print(\"=\" * 40)\n",
        "\n",
        "# Print the nicely formatted result\n",
        "print_nice_result(result)"
      ],
      "metadata": {
        "colab": {
          "base_uri": "https://localhost:8080/"
        },
        "id": "AM7A0UHN6ti9",
        "outputId": "54467cd1-88b5-4d00-c294-b0709637d1c1"
      },
      "execution_count": null,
      "outputs": [
        {
          "output_type": "stream",
          "name": "stdout",
          "text": [
            "\n",
            "=== RAG Chain Result ===\n",
            "\n",
            "Section 1:\n",
            "To perform SQL fuzzing on APIs, you need to follow these steps:\n",
            "\n",
            "========================================\n",
            "Section 2:\n",
            "1. Identify the API endpoints that you want to fuzz. Look for inputs that are used for user interaction, such as authentication forms, account registration, file uploads, content editing, user profile editing, user management, and content searching.\n",
            "\n",
            "========================================\n",
            "Section 3:\n",
            "2. Choose the type of input you want to send for fuzzing. This can include symbols, strings, and numbers that could potentially cause errors in the API.\n",
            "\n",
            "========================================\n",
            "Section 4:\n",
            "3. Craft SQL fuzzing payloads that target the identified API endpoints. For example, you can send SQL injection payloads to input fields that interact with a database.\n",
            "\n",
            "========================================\n",
            "Section 5:\n",
            "4. Send the SQL fuzzing payloads to the API endpoints and observe the responses. Look for verbose error messages or other indications that the API is vulnerable to SQL injection attacks.\n",
            "\n",
            "========================================\n",
            "Section 6:\n",
            "5. Adapt your fuzzing based on the results. If you receive error messages indicating SQL syntax errors or other vulnerabilities, continue to explore those areas further.\n",
            "\n",
            "========================================\n",
            "Section 7:\n",
            "6. Keep in mind the technologies used by the API. If the API leverages NoSQL databases, for example, SQL fuzzing payloads may not be as effective. Tailor your fuzzing approach accordingly based on the technologies in use.\n",
            "\n",
            "========================================\n",
            "Section 8:\n",
            "7. Pay attention to response times as well. A delayed response or unusual behavior could indicate that your SQL fuzzing payload is causing unexpected processing on the server-side.\n",
            "\n",
            "========================================\n",
            "Section 9:\n",
            "8. Finally, document your findings and report any discovered vulnerabilities to the appropriate stakeholders for remediation.\n",
            "\n",
            "========================================\n",
            "Section 10:\n",
            "By following these steps, you can effectively fuzz APIs for SQL vulnerabilities and discover potential security weaknesses that could be exploited by malicious actors.\n",
            "\n",
            "========================================\n"
          ]
        }
      ]
    }
  ]
}